{
 "cells": [
  {
   "cell_type": "code",
   "execution_count": null,
   "metadata": {},
   "outputs": [],
   "source": [
    "# dependencies\n",
    "import pandas as pd\n",
    "from bs4 import BeautifulSoup as bs\n",
    "import requests\n",
    "from splinter import Browser\n",
    "from webdriver_manager.chrome import ChromeDriverManager"
   ]
  },
  {
   "cell_type": "markdown",
   "metadata": {},
   "source": [
    "## Nasa Mars News"
   ]
  },
  {
   "cell_type": "code",
   "execution_count": null,
   "metadata": {},
   "outputs": [],
   "source": [
    "# set up splinter browser\n",
    "executable_path = {'executable_path': ChromeDriverManager().install()}\n",
    "browser = Browser('chrome', **executable_path, headless=False)"
   ]
  },
  {
   "cell_type": "code",
   "execution_count": null,
   "metadata": {},
   "outputs": [],
   "source": [
    "# mars news url\n",
    "news_url = 'https://redplanetscience.com/'\n",
    "browser.visit(news_url)"
   ]
  },
  {
   "cell_type": "code",
   "execution_count": null,
   "metadata": {},
   "outputs": [],
   "source": [
    "# make beautiful soup object\n",
    "html = browser.html\n",
    "soup = bs(html, 'html.parser')"
   ]
  },
  {
   "cell_type": "code",
   "execution_count": null,
   "metadata": {},
   "outputs": [],
   "source": [
    "# look at soup object\n",
    "print(soup.prettify())"
   ]
  },
  {
   "cell_type": "code",
   "execution_count": null,
   "metadata": {},
   "outputs": [],
   "source": [
    "# pulling out first article's title and teaser TEXT\n",
    "title = soup.find('div', class_='content_title').text\n",
    "teaser = soup.find('div', class_='article_teaser_body').text"
   ]
  },
  {
   "cell_type": "code",
   "execution_count": null,
   "metadata": {},
   "outputs": [],
   "source": [
    "# closing splinter browser IMPORTANT\n",
    "browser.quit()"
   ]
  },
  {
   "cell_type": "code",
   "execution_count": null,
   "metadata": {},
   "outputs": [],
   "source": [
    "# printing out what i have scraped just to see it worked\n",
    "print(title)\n",
    "print('-'*100)\n",
    "print(teaser)"
   ]
  },
  {
   "cell_type": "code",
   "execution_count": null,
   "metadata": {},
   "outputs": [],
   "source": []
  },
  {
   "cell_type": "code",
   "execution_count": null,
   "metadata": {},
   "outputs": [],
   "source": []
  },
  {
   "cell_type": "markdown",
   "metadata": {},
   "source": [
    "## JPL Mars Space Images - Featured Image"
   ]
  },
  {
   "cell_type": "code",
   "execution_count": null,
   "metadata": {},
   "outputs": [],
   "source": [
    "# Setup splinter browser\n",
    "executable_path = {'executable_path': ChromeDriverManager().install()}\n",
    "browser = Browser('chrome', **executable_path, headless=False)"
   ]
  },
  {
   "cell_type": "code",
   "execution_count": null,
   "metadata": {},
   "outputs": [],
   "source": [
    "# sends browser to url\n",
    "url = 'https://spaceimages-mars.com/'\n",
    "browser.visit(url)\n",
    "\n",
    "# creates soup of browser\n",
    "html = browser.html\n",
    "soup = bs(html, 'html.parser')\n",
    "\n",
    "# find anchor of featured image\n",
    "anchor = soup.find('a', class_='showimg fancybox-thumbs')\n",
    "\n",
    "# get the last half the featured_image_url\n",
    "image_url = anchor['href']\n",
    "\n",
    "# close the browser IMPORTANT\n",
    "browser.quit()"
   ]
  },
  {
   "cell_type": "code",
   "execution_count": null,
   "metadata": {},
   "outputs": [],
   "source": [
    "# joining urls\n",
    "featured_image_url = url + image_url\n",
    "\n",
    "# looking at full url\n",
    "print(featured_image_url)"
   ]
  },
  {
   "cell_type": "markdown",
   "metadata": {},
   "source": [
    "## Mars Facts"
   ]
  },
  {
   "cell_type": "code",
   "execution_count": null,
   "metadata": {},
   "outputs": [],
   "source": []
  },
  {
   "cell_type": "code",
   "execution_count": null,
   "metadata": {},
   "outputs": [],
   "source": [
    "# url\n",
    "url = 'https://galaxyfacts-mars.com/'\n",
    "\n",
    "# reading all tables on site to list of df using pandas\n",
    "tables = pd.read_html(url)"
   ]
  },
  {
   "cell_type": "code",
   "execution_count": null,
   "metadata": {},
   "outputs": [],
   "source": [
    "# pulling out the table(df) I want to use by the index\n",
    "mars_table = tables[1]"
   ]
  },
  {
   "cell_type": "code",
   "execution_count": null,
   "metadata": {},
   "outputs": [],
   "source": [
    "# writing that table to an html file \n",
    "# classes gives it the formatting I want\n",
    "mars_html = mars_table.to_html(header=False, index=False, classes=['table-striped', 'table-bordered'])"
   ]
  },
  {
   "cell_type": "code",
   "execution_count": null,
   "metadata": {
    "scrolled": true
   },
   "outputs": [],
   "source": [
    "# looking at the string of html table just to make sure it worked\n",
    "print(mars_html)"
   ]
  },
  {
   "cell_type": "markdown",
   "metadata": {},
   "source": [
    "## Mars Hemispheres"
   ]
  },
  {
   "cell_type": "code",
   "execution_count": null,
   "metadata": {},
   "outputs": [],
   "source": [
    "# Setup splinter\n",
    "executable_path = {'executable_path': ChromeDriverManager().install()}\n",
    "browser = Browser('chrome', **executable_path, headless=False)"
   ]
  },
  {
   "cell_type": "code",
   "execution_count": null,
   "metadata": {},
   "outputs": [],
   "source": [
    "# sends browser to url\n",
    "url = 'https://marshemispheres.com/'\n",
    "browser.visit(url)\n",
    "\n",
    "# creates soup of browser\n",
    "html = browser.html\n",
    "soup = bs(html, 'html.parser')\n",
    "\n",
    "# gather list of links\n",
    "links_list = soup.find_all('a', 'itemLink product-item')\n",
    "\n",
    "# shrink list of text (only looks at the images)\n",
    "texts = []\n",
    "for i in range(8):\n",
    "    if (i % 2) == 1:\n",
    "        texts.append(links_list[i].text.strip())\n",
    "\n",
    "# empty list to hold image urls\n",
    "images = []\n",
    "\n",
    "# this loops over browsers and pulls out urls of images\n",
    "for text in texts:\n",
    "    #clicks on image link by partial text\n",
    "    browser.links.find_by_partial_text(text).click()\n",
    "    \n",
    "    # create soup of new browser\n",
    "    html_temp = browser.html\n",
    "    soup_temp = bs(html_temp, 'html.parser')\n",
    "    \n",
    "    # pulls link href link from sample button\n",
    "    image_url = soup_temp.find('a', text='Sample')['href']\n",
    "    # pastes together urls to make link to full image\n",
    "    # i did it this way because clicking on button opened a new tab\n",
    "    # but did not go to that tab this way actually takes you to the page\n",
    "    full_url = url + image_url\n",
    "    print(full_url)\n",
    "    \n",
    "    # sends browser to page of full_image\n",
    "    browser.visit(full_url)\n",
    "    \n",
    "    # creates soup of page\n",
    "    html_temp = browser.html\n",
    "    soup_temp = bs(html_temp, 'html.parser')\n",
    "    \n",
    "    # appends scraped url to images list\n",
    "    images.append(soup_temp.find('img')['src'])\n",
    "    \n",
    "    # sends browser to original url\n",
    "    url = 'https://marshemispheres.com/'\n",
    "    browser.visit(url)\n",
    "\n",
    "    # creates soup of original browser\n",
    "    html = browser.html\n",
    "    soup = bs(html, 'html.parser')\n",
    "\n",
    "# closes browser IMPORTANT \n",
    "browser.quit()"
   ]
  },
  {
   "cell_type": "code",
   "execution_count": null,
   "metadata": {},
   "outputs": [],
   "source": [
    "mars = []\n",
    "for i in range(4):\n",
    "    mars.append({'title':texts[i], 'img_url':images[i]})"
   ]
  },
  {
   "cell_type": "code",
   "execution_count": null,
   "metadata": {},
   "outputs": [],
   "source": [
    "mars"
   ]
  },
  {
   "cell_type": "code",
   "execution_count": null,
   "metadata": {},
   "outputs": [],
   "source": []
  },
  {
   "cell_type": "code",
   "execution_count": null,
   "metadata": {},
   "outputs": [],
   "source": []
  }
 ],
 "metadata": {
  "kernelspec": {
   "display_name": "Python 3",
   "language": "python",
   "name": "python3"
  },
  "language_info": {
   "codemirror_mode": {
    "name": "ipython",
    "version": 3
   },
   "file_extension": ".py",
   "mimetype": "text/x-python",
   "name": "python",
   "nbconvert_exporter": "python",
   "pygments_lexer": "ipython3",
   "version": "3.6.10"
  }
 },
 "nbformat": 4,
 "nbformat_minor": 4
}
